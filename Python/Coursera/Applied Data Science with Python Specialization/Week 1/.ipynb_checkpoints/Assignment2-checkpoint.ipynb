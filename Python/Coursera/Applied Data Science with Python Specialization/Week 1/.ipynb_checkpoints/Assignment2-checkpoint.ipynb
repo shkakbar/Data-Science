{
 "cells": [
  {
   "cell_type": "code",
   "execution_count": null,
   "metadata": {},
   "outputs": [],
   "source": [
    "import matplotlib.pyplot as plt\n",
    "import mplleaflet\n",
    "import pandas as pd\n",
    "import numpy as np\n",
    "\n",
    "%matplotlib inline\n",
    "\n",
    "df = pd.read_csv('data/C2A2_data/BinnedCsvs_d400/fb441e62df2d58994928907a91895ec62c2c42e6cd075c2700843b89.csv')\n",
    "df.head()\n",
    "\n",
    "df.describe()\n",
    "\n",
    "df = df.sort_values(by=['ID','Date'])\n",
    "df.head()\n",
    "\n",
    "df['Year'], df['Month-date'] = zip(*df['Date'].apply(lambda x: (x[:4], x[5:])))\n",
    "df = df[df['Month-date'] != '02-29']\n",
    "df.head()\n",
    "\n",
    "temp_min = df[(df['Element'] == 'TMIN') & (df['Year'] != '2015')].groupby('Month-date').aggregate({'Data_Value':np.min})\n",
    "temp_max = df[(df['Element'] == 'TMAX') & (df['Year'] != '2015')].groupby('Month-date').aggregate({'Data_Value':np.max})\n",
    "temp_min.head()\n",
    "\n",
    "temp_min_15 = df[(df['Element'] == 'TMIN') & (df['Year'] == '2015')].groupby('Month-date').aggregate({'Data_Value':np.min})\n",
    "temp_max_15 = df[(df['Element'] == 'TMAX') & (df['Year'] == '2015')].groupby('Month-date').aggregate({'Data_Value':np.max})\n",
    "temp_min_15.head()\n",
    "\n",
    "broken_max = np.where(temp_max_15['Data_Value'] > temp_max['Data_Value'])\n",
    "broken_max\n",
    "\n",
    "broken_min = np.where(temp_min_15['Data_Value'] < temp_min['Data_Value'])\n",
    "broken_min\n",
    "\n",
    "plt.figure()\n",
    "plt.plot(temp_max.values, c='r', label='record high')\n",
    "plt.plot(temp_min.values, c='b', label='record low')\n",
    "plt.scatter(broken_max, temp_max_15.iloc[broken_max], s=50, c='green', label='broken high')\n",
    "plt.scatter(broken_min, temp_min_15.iloc[broken_min], s=50, c='red', label='broken low')\n",
    "plt.gca().axis([-5, 370, -400, 800])\n",
    "plt.xticks(range(0, len(temp_max), 30), temp_max.index[range(0, len(temp_max), 30)], rotation=45)\n",
    "plt.fill_between(range(len(temp_max)), temp_max['Data_Value'], temp_min['Data_Value'], facecolor='grey', alpha=0.25)\n",
    "plt.legend(frameon=False, loc=0)\n",
    "plt.xlabel('Day of the Year')\n",
    "plt.ylabel('Temperature (Tenths of Degrees C)')\n",
    "plt.title('Global Daily Climate Records')\n",
    "plt.gca().spines['top'].set_visible(False)\n",
    "plt.gca().spines['right'].set_visible(False)"
   ]
  },
  {
   "cell_type": "code",
   "execution_count": null,
   "metadata": {},
   "outputs": [],
   "source": []
  }
 ],
 "metadata": {
  "kernelspec": {
   "display_name": "Python 3",
   "language": "python",
   "name": "python3"
  },
  "language_info": {
   "codemirror_mode": {
    "name": "ipython",
    "version": 3
   },
   "file_extension": ".py",
   "mimetype": "text/x-python",
   "name": "python",
   "nbconvert_exporter": "python",
   "pygments_lexer": "ipython3",
   "version": "3.7.3"
  }
 },
 "nbformat": 4,
 "nbformat_minor": 4
}
